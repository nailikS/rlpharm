{
 "cells": [
  {
   "attachments": {},
   "cell_type": "markdown",
   "metadata": {},
   "source": [
    "# Check Environment and Run Training"
   ]
  },
  {
   "cell_type": "code",
   "execution_count": 1,
   "metadata": {},
   "outputs": [],
   "source": [
    "from stable_baselines3.common.env_checker import check_env\n",
    "from stable_baselines3 import PPO\n",
    "from customenv import PharmacophoreEnv\n",
    "from wandb.integration.sb3 import WandbCallback\n",
    "import wandb\n",
    "import time\n",
    "from stable_baselines3.common.monitor import Monitor\n",
    "import gymnasium as gym\n",
    "from gymnasium.envs.registration import register\n",
    "from gymnasium.wrappers import FlattenObservation\n",
    "from stable_baselines3.common.env_util import make_vec_env\n",
    "from stable_baselines3.common.vec_env import SubprocVecEnv, DummyVecEnv\n",
    "import subprocess\n",
    "from datetime import datetime"
   ]
  },
  {
   "cell_type": "code",
   "execution_count": 16,
   "metadata": {},
   "outputs": [
    {
     "data": {
      "text/plain": [
       "array([1.09219097, 3.13685559])"
      ]
     },
     "execution_count": 16,
     "metadata": {},
     "output_type": "execute_result"
    }
   ],
   "source": [
    "import numpy as np\n",
    "np.random.uniform(1,5,2)"
   ]
  },
  {
   "cell_type": "code",
   "execution_count": 2,
   "metadata": {},
   "outputs": [
    {
     "ename": "KeyboardInterrupt",
     "evalue": "",
     "output_type": "error",
     "traceback": [
      "\u001b[1;31m---------------------------------------------------------------------------\u001b[0m",
      "\u001b[1;31mKeyboardInterrupt\u001b[0m                         Traceback (most recent call last)",
      "Cell \u001b[1;32mIn[2], line 20\u001b[0m\n\u001b[0;32m      1\u001b[0m register(\n\u001b[0;32m      2\u001b[0m     \u001b[39m# unique identifier for the env `name-version`\u001b[39;00m\n\u001b[0;32m      3\u001b[0m     \u001b[39mid\u001b[39m\u001b[39m=\u001b[39m\u001b[39m\"\u001b[39m\u001b[39mPharmacophoreEnv-v0\u001b[39m\u001b[39m\"\u001b[39m,\n\u001b[1;32m   (...)\u001b[0m\n\u001b[0;32m     16\u001b[0m             \u001b[39m\"\u001b[39m\u001b[39menable_approximator\u001b[39m\u001b[39m\"\u001b[39m: \u001b[39mFalse\u001b[39;00m},\n\u001b[0;32m     17\u001b[0m )\n\u001b[0;32m     19\u001b[0m env \u001b[39m=\u001b[39m gym\u001b[39m.\u001b[39mmake(\u001b[39m\"\u001b[39m\u001b[39mPharmacophoreEnv-v0\u001b[39m\u001b[39m\"\u001b[39m)\n\u001b[1;32m---> 20\u001b[0m env\u001b[39m.\u001b[39;49mgenerate_examples(n\u001b[39m=\u001b[39;49m\u001b[39m10000\u001b[39;49m, csv_file\u001b[39m=\u001b[39;49m\u001b[39mr\u001b[39;49m\u001b[39m\"\u001b[39;49m\u001b[39mC:\u001b[39;49m\u001b[39m\\\u001b[39;49m\u001b[39mUsers\u001b[39;49m\u001b[39m\\\u001b[39;49m\u001b[39mkilia\u001b[39;49m\u001b[39m\\\u001b[39;49m\u001b[39mMASTER\u001b[39;49m\u001b[39m\\\u001b[39;49m\u001b[39mrlpharm\u001b[39;49m\u001b[39m\\\u001b[39;49m\u001b[39mdata\u001b[39;49m\u001b[39m\\\u001b[39;49m\u001b[39mapprox.csv\u001b[39;49m\u001b[39m\"\u001b[39;49m)\n",
      "File \u001b[1;32mc:\\Users\\kilia\\MASTER\\rlpharm\\src\\customenv.py:214\u001b[0m, in \u001b[0;36mPharmacophoreEnv.generate_examples\u001b[1;34m(self, n, csv_file)\u001b[0m\n\u001b[0;32m    212\u001b[0m modified_phar\u001b[39m.\u001b[39mwrite(temp_querys, encoding\u001b[39m=\u001b[39m\u001b[39m\"\u001b[39m\u001b[39mutf-8\u001b[39m\u001b[39m\"\u001b[39m, xml_declaration\u001b[39m=\u001b[39m\u001b[39mTrue\u001b[39;00m)\n\u001b[0;32m    213\u001b[0m \u001b[39m# Evaluate and calculate reward\u001b[39;00m\n\u001b[1;32m--> 214\u001b[0m reward \u001b[39m=\u001b[39m \u001b[39mself\u001b[39m\u001b[39m.\u001b[39mscoring(\u001b[39m*\u001b[39mutils\u001b[39m.\u001b[39;49mexec_vhts(output_file\u001b[39m=\u001b[39;49m\u001b[39mself\u001b[39;49m\u001b[39m.\u001b[39;49mout_file, \n\u001b[0;32m    215\u001b[0m                                        querys\u001b[39m=\u001b[39;49mtemp_querys, \n\u001b[0;32m    216\u001b[0m                                        actives_db\u001b[39m=\u001b[39;49m\u001b[39mself\u001b[39;49m\u001b[39m.\u001b[39;49mactives_db, \n\u001b[0;32m    217\u001b[0m                                        inactives_db\u001b[39m=\u001b[39;49m\u001b[39mself\u001b[39;49m\u001b[39m.\u001b[39;49minactives_db))\n\u001b[0;32m    219\u001b[0m \u001b[39mfor\u001b[39;00m i, f \u001b[39min\u001b[39;00m \u001b[39mzip\u001b[39m(\u001b[39mrange\u001b[39m(\u001b[39mlen\u001b[39m(\u001b[39mself\u001b[39m\u001b[39m.\u001b[39mfeatureIds)),\u001b[39mself\u001b[39m\u001b[39m.\u001b[39mfeatures):\n\u001b[0;32m    220\u001b[0m     x \u001b[39m=\u001b[39m []\n",
      "File \u001b[1;32mc:\\Users\\kilia\\MASTER\\rlpharm\\src\\utils.py:25\u001b[0m, in \u001b[0;36mexec_vhts\u001b[1;34m(output_file, querys, actives_db, inactives_db, verbose)\u001b[0m\n\u001b[0;32m     23\u001b[0m output_file \u001b[39m=\u001b[39m output_file \u001b[39m+\u001b[39m \u001b[39m'\u001b[39m\u001b[39m-\u001b[39m\u001b[39m{}\u001b[39;00m\u001b[39m.sdf\u001b[39m\u001b[39m'\u001b[39m\u001b[39m.\u001b[39mformat(datestring)  \n\u001b[0;32m     24\u001b[0m start_time \u001b[39m=\u001b[39m time\u001b[39m.\u001b[39mtime()\n\u001b[1;32m---> 25\u001b[0m subprocess\u001b[39m.\u001b[39;49mrun(\u001b[39mf\u001b[39;49m\u001b[39m\"\u001b[39;49m\u001b[39m{\u001b[39;49;00mjvm\u001b[39m}\u001b[39;49;00m\u001b[39m{\u001b[39;49;00milib\u001b[39m}\u001b[39;49;00m\u001b[39m{\u001b[39;49;00mcp\u001b[39m}\u001b[39;49;00m\u001b[39m --query \u001b[39;49m\u001b[39m{\u001b[39;49;00mquerys\u001b[39m}\u001b[39;49;00m\u001b[39m --database \u001b[39;49m\u001b[39m{\u001b[39;49;00mactives_db\u001b[39m}\u001b[39;49;00m\u001b[39m, \u001b[39;49m\u001b[39m{\u001b[39;49;00minactives_db\u001b[39m}\u001b[39;49;00m\u001b[39m --output \u001b[39;49m\u001b[39m{\u001b[39;49;00moutput_file\u001b[39m}\u001b[39;49;00m\u001b[39m\"\u001b[39;49m, capture_output\u001b[39m=\u001b[39;49m\u001b[39mTrue\u001b[39;49;00m, text\u001b[39m=\u001b[39;49m\u001b[39mTrue\u001b[39;49;00m)\n\u001b[0;32m     26\u001b[0m timings\u001b[39m.\u001b[39mappend(\u001b[39m\"\u001b[39m\u001b[39mSubprocess Call: \u001b[39m\u001b[39m\"\u001b[39m \u001b[39m+\u001b[39m \u001b[39mstr\u001b[39m(time\u001b[39m.\u001b[39mtime() \u001b[39m-\u001b[39m start_time))\n\u001b[0;32m     28\u001b[0m start_time \u001b[39m=\u001b[39m time\u001b[39m.\u001b[39mtime()\n",
      "File \u001b[1;32m~\\AppData\\Local\\Programs\\Python\\Python310\\lib\\subprocess.py:505\u001b[0m, in \u001b[0;36mrun\u001b[1;34m(input, capture_output, timeout, check, *popenargs, **kwargs)\u001b[0m\n\u001b[0;32m    503\u001b[0m \u001b[39mwith\u001b[39;00m Popen(\u001b[39m*\u001b[39mpopenargs, \u001b[39m*\u001b[39m\u001b[39m*\u001b[39mkwargs) \u001b[39mas\u001b[39;00m process:\n\u001b[0;32m    504\u001b[0m     \u001b[39mtry\u001b[39;00m:\n\u001b[1;32m--> 505\u001b[0m         stdout, stderr \u001b[39m=\u001b[39m process\u001b[39m.\u001b[39;49mcommunicate(\u001b[39minput\u001b[39;49m, timeout\u001b[39m=\u001b[39;49mtimeout)\n\u001b[0;32m    506\u001b[0m     \u001b[39mexcept\u001b[39;00m TimeoutExpired \u001b[39mas\u001b[39;00m exc:\n\u001b[0;32m    507\u001b[0m         process\u001b[39m.\u001b[39mkill()\n",
      "File \u001b[1;32m~\\AppData\\Local\\Programs\\Python\\Python310\\lib\\subprocess.py:1154\u001b[0m, in \u001b[0;36mPopen.communicate\u001b[1;34m(self, input, timeout)\u001b[0m\n\u001b[0;32m   1151\u001b[0m     endtime \u001b[39m=\u001b[39m \u001b[39mNone\u001b[39;00m\n\u001b[0;32m   1153\u001b[0m \u001b[39mtry\u001b[39;00m:\n\u001b[1;32m-> 1154\u001b[0m     stdout, stderr \u001b[39m=\u001b[39m \u001b[39mself\u001b[39;49m\u001b[39m.\u001b[39;49m_communicate(\u001b[39minput\u001b[39;49m, endtime, timeout)\n\u001b[0;32m   1155\u001b[0m \u001b[39mexcept\u001b[39;00m \u001b[39mKeyboardInterrupt\u001b[39;00m:\n\u001b[0;32m   1156\u001b[0m     \u001b[39m# https://bugs.python.org/issue25942\u001b[39;00m\n\u001b[0;32m   1157\u001b[0m     \u001b[39m# See the detailed comment in .wait().\u001b[39;00m\n\u001b[0;32m   1158\u001b[0m     \u001b[39mif\u001b[39;00m timeout \u001b[39mis\u001b[39;00m \u001b[39mnot\u001b[39;00m \u001b[39mNone\u001b[39;00m:\n",
      "File \u001b[1;32m~\\AppData\\Local\\Programs\\Python\\Python310\\lib\\subprocess.py:1528\u001b[0m, in \u001b[0;36mPopen._communicate\u001b[1;34m(self, input, endtime, orig_timeout)\u001b[0m\n\u001b[0;32m   1524\u001b[0m \u001b[39m# Wait for the reader threads, or time out.  If we time out, the\u001b[39;00m\n\u001b[0;32m   1525\u001b[0m \u001b[39m# threads remain reading and the fds left open in case the user\u001b[39;00m\n\u001b[0;32m   1526\u001b[0m \u001b[39m# calls communicate again.\u001b[39;00m\n\u001b[0;32m   1527\u001b[0m \u001b[39mif\u001b[39;00m \u001b[39mself\u001b[39m\u001b[39m.\u001b[39mstdout \u001b[39mis\u001b[39;00m \u001b[39mnot\u001b[39;00m \u001b[39mNone\u001b[39;00m:\n\u001b[1;32m-> 1528\u001b[0m     \u001b[39mself\u001b[39;49m\u001b[39m.\u001b[39;49mstdout_thread\u001b[39m.\u001b[39;49mjoin(\u001b[39mself\u001b[39;49m\u001b[39m.\u001b[39;49m_remaining_time(endtime))\n\u001b[0;32m   1529\u001b[0m     \u001b[39mif\u001b[39;00m \u001b[39mself\u001b[39m\u001b[39m.\u001b[39mstdout_thread\u001b[39m.\u001b[39mis_alive():\n\u001b[0;32m   1530\u001b[0m         \u001b[39mraise\u001b[39;00m TimeoutExpired(\u001b[39mself\u001b[39m\u001b[39m.\u001b[39margs, orig_timeout)\n",
      "File \u001b[1;32m~\\AppData\\Local\\Programs\\Python\\Python310\\lib\\threading.py:1096\u001b[0m, in \u001b[0;36mThread.join\u001b[1;34m(self, timeout)\u001b[0m\n\u001b[0;32m   1093\u001b[0m     \u001b[39mraise\u001b[39;00m \u001b[39mRuntimeError\u001b[39;00m(\u001b[39m\"\u001b[39m\u001b[39mcannot join current thread\u001b[39m\u001b[39m\"\u001b[39m)\n\u001b[0;32m   1095\u001b[0m \u001b[39mif\u001b[39;00m timeout \u001b[39mis\u001b[39;00m \u001b[39mNone\u001b[39;00m:\n\u001b[1;32m-> 1096\u001b[0m     \u001b[39mself\u001b[39;49m\u001b[39m.\u001b[39;49m_wait_for_tstate_lock()\n\u001b[0;32m   1097\u001b[0m \u001b[39melse\u001b[39;00m:\n\u001b[0;32m   1098\u001b[0m     \u001b[39m# the behavior of a negative timeout isn't documented, but\u001b[39;00m\n\u001b[0;32m   1099\u001b[0m     \u001b[39m# historically .join(timeout=x) for x<0 has acted as if timeout=0\u001b[39;00m\n\u001b[0;32m   1100\u001b[0m     \u001b[39mself\u001b[39m\u001b[39m.\u001b[39m_wait_for_tstate_lock(timeout\u001b[39m=\u001b[39m\u001b[39mmax\u001b[39m(timeout, \u001b[39m0\u001b[39m))\n",
      "File \u001b[1;32m~\\AppData\\Local\\Programs\\Python\\Python310\\lib\\threading.py:1116\u001b[0m, in \u001b[0;36mThread._wait_for_tstate_lock\u001b[1;34m(self, block, timeout)\u001b[0m\n\u001b[0;32m   1113\u001b[0m     \u001b[39mreturn\u001b[39;00m\n\u001b[0;32m   1115\u001b[0m \u001b[39mtry\u001b[39;00m:\n\u001b[1;32m-> 1116\u001b[0m     \u001b[39mif\u001b[39;00m lock\u001b[39m.\u001b[39;49macquire(block, timeout):\n\u001b[0;32m   1117\u001b[0m         lock\u001b[39m.\u001b[39mrelease()\n\u001b[0;32m   1118\u001b[0m         \u001b[39mself\u001b[39m\u001b[39m.\u001b[39m_stop()\n",
      "\u001b[1;31mKeyboardInterrupt\u001b[0m: "
     ]
    }
   ],
   "source": [
    "register(\n",
    "    # unique identifier for the env `name-version`\n",
    "    id=\"PharmacophoreEnv-v0\",\n",
    "    # path to the class for creating the env\n",
    "    entry_point=\"customenv:PharmacophoreEnv\",\n",
    "    max_episode_steps=200,\n",
    "    # Max number of steps per episode, using a `TimeLimitWrapper`\n",
    "    kwargs={\"output\": r'C:\\\\Users\\\\kilia\\\\MASTER\\\\rlpharm\\\\data\\\\hitlists\\\\hitlist', \n",
    "            \"querys\": r'C:\\\\Users\\\\kilia\\\\MASTER\\\\rlpharm\\\\data\\\\querys\\\\sEH-1ZD5_mod5_LS_3.02.pml', \n",
    "            \"actives_db\": r'C:\\\\Users\\\\kilia\\\\MASTER\\\\rlpharm\\\\data\\\\ldb2s\\\\actives.ldb2',\n",
    "            \"inactives_db\": r\"C:\\\\Users\\\\kilia\\\\MASTER\\\\rlpharm\\\\data\\\\ldb2s\\\\inactives.ldb2\",\n",
    "            \"approximator\": r\"C:\\Users\\kilia\\MASTER\\rlpharm\\data\\models\\approximator\\best.pt\",\n",
    "            \"ldba\": 58,\n",
    "            \"ldbi\": 177,\n",
    "            \"features\": \"H,HBA,HBD\",\n",
    "            \"enable_approximator\": False},\n",
    ")\n",
    "\n",
    "env = gym.make(\"PharmacophoreEnv-v0\")\n",
    "env.generate_examples(n=10000, csv_file=r\"C:\\Users\\kilia\\MASTER\\rlpharm\\data\\approx.csv\")\n",
    "\n"
   ]
  },
  {
   "cell_type": "code",
   "execution_count": null,
   "metadata": {},
   "outputs": [],
   "source": [
    "import numpy as np\n",
    "b = np.array([1, 5], dtype=np.float32)\n",
    "x = np.array([1,1,1,1], dtype=np.float32)\n",
    "y = np.array([1,0.9,1,1], dtype=np.float32)\n",
    "q = {'a':x, 'b':y}\n",
    "z = not np.logical_and(np.all(q['a'] <= b[1]), np.all(q['a'] >= b[0]))\n",
    "m = not np.logical_and(np.all(q['b'] <= b[1]), np.all(q['b'] >= b[0]))\n",
    "\n",
    "print(z)\n",
    "print(m)\n",
    "\n",
    "if z or m:\n",
    "    print(\"y is true\")\n",
    "\n"
   ]
  },
  {
   "cell_type": "code",
   "execution_count": 2,
   "metadata": {},
   "outputs": [],
   "source": [
    "output= r'C:\\\\Users\\\\kilia\\\\MASTER\\\\rlpharm\\\\data\\\\hitlists\\\\hitlist'\n",
    "querys= r'C:\\\\Users\\\\kilia\\\\MASTER\\\\rlpharm\\\\data\\\\querys\\\\sEH-1ZD5_mod5_LS_3.02.pml'\n",
    "actives_db= r'C:\\\\Users\\\\kilia\\\\MASTER\\\\rlpharm\\\\data\\\\ldb2s\\\\actives_mini.ldb2:active'\n",
    "inactives_db= r\"C:\\\\Users\\\\kilia\\\\MASTER\\\\rlpharm\\\\data\\\\ldb2s\\\\inactives_mini.ldb2:inactive\"\n",
    "approximator= r\"C:\\Users\\kilia\\MASTER\\rlpharm\\data\\models\\approximator\\best.pt\""
   ]
  },
  {
   "cell_type": "code",
   "execution_count": 8,
   "metadata": {},
   "outputs": [],
   "source": [
    "def exec_vhts(output_file, querys, actives_db, inactives_db):\n",
    "    \"\"\"\n",
    "    Execute VHTS with the given querys\n",
    "    :param querys: path to query file\n",
    "    :param actives_db: path to actives database\n",
    "    :param inactives_db: path to inactives database\n",
    "    :return: count of positive and negative hits as separate values\n",
    "    \"\"\"\n",
    "    datestring = datetime.now().strftime(\"%Y_%m_%d-%I_%M_%S_%f\")\n",
    "    output_file = output_file + '-{}.sdf'.format(datestring)  \n",
    "    arguments = [\"--query\", querys, \"--database\", f\"{actives_db}, {inactives_db}\", \"--output\", output_file]\n",
    "    command = r'C:/Users/kilia/MASTER/rlpharm/LS5/iscreen.sh' + \" \" + \" \".join(arguments)\n",
    "    print(command)\n",
    "    #subprocess.run([\"bash\", r'C:\\Users\\kilia\\MASTER\\rlpharm\\LS5\\iscreen.sh'] + arguments, shell=True)\n",
    "    subprocess.run(['bash', command], shell=True)\n",
    "    poshits = 0\n",
    "    neghits = 0\n",
    "    with open(file= output_file.replace(\"\\\\\\\\\", \"\\\\\") , mode='r') as f:\n",
    "        for line in f:\n",
    "            if line.startswith('active'):\n",
    "                poshits += 1\n",
    "            if line.startswith('decoy'):\n",
    "                neghits += 1\n",
    "    print(\"Hits(pos: \" + str(poshits) + \", neg: \" + str(neghits) + \")\")\n",
    "    return poshits, neghits"
   ]
  },
  {
   "cell_type": "code",
   "execution_count": 9,
   "metadata": {},
   "outputs": [
    {
     "name": "stdout",
     "output_type": "stream",
     "text": [
      "C:/Users/kilia/MASTER/rlpharm/LS5/iscreen.sh --query C:\\\\Users\\\\kilia\\\\MASTER\\\\rlpharm\\\\data\\\\querys\\\\sEH-1ZD5_mod5_LS_3.02.pml --database C:\\\\Users\\\\kilia\\\\MASTER\\\\rlpharm\\\\data\\\\ldb2s\\\\actives_mini.ldb2:active, C:\\\\Users\\\\kilia\\\\MASTER\\\\rlpharm\\\\data\\\\ldb2s\\\\inactives_mini.ldb2:inactive --output C:\\\\Users\\\\kilia\\\\MASTER\\\\rlpharm\\\\data\\\\hitlists\\\\hitlist-2023_05_14-03_53_33_741759.sdf\n"
     ]
    },
    {
     "ename": "FileNotFoundError",
     "evalue": "[Errno 2] No such file or directory: 'C:\\\\Users\\\\kilia\\\\MASTER\\\\rlpharm\\\\data\\\\hitlists\\\\hitlist-2023_05_14-03_53_33_741759.sdf'",
     "output_type": "error",
     "traceback": [
      "\u001b[1;31m---------------------------------------------------------------------------\u001b[0m",
      "\u001b[1;31mFileNotFoundError\u001b[0m                         Traceback (most recent call last)",
      "Cell \u001b[1;32mIn[9], line 1\u001b[0m\n\u001b[1;32m----> 1\u001b[0m pos, neg \u001b[39m=\u001b[39m exec_vhts(output, querys, actives_db, inactives_db)\n",
      "Cell \u001b[1;32mIn[8], line 18\u001b[0m, in \u001b[0;36mexec_vhts\u001b[1;34m(output_file, querys, actives_db, inactives_db)\u001b[0m\n\u001b[0;32m     16\u001b[0m poshits \u001b[39m=\u001b[39m \u001b[39m0\u001b[39m\n\u001b[0;32m     17\u001b[0m neghits \u001b[39m=\u001b[39m \u001b[39m0\u001b[39m\n\u001b[1;32m---> 18\u001b[0m \u001b[39mwith\u001b[39;00m \u001b[39mopen\u001b[39;49m(file\u001b[39m=\u001b[39;49m output_file\u001b[39m.\u001b[39;49mreplace(\u001b[39m\"\u001b[39;49m\u001b[39m\\\\\u001b[39;49;00m\u001b[39m\\\\\u001b[39;49;00m\u001b[39m\"\u001b[39;49m, \u001b[39m\"\u001b[39;49m\u001b[39m\\\\\u001b[39;49;00m\u001b[39m\"\u001b[39;49m) , mode\u001b[39m=\u001b[39;49m\u001b[39m'\u001b[39;49m\u001b[39mr\u001b[39;49m\u001b[39m'\u001b[39;49m) \u001b[39mas\u001b[39;00m f:\n\u001b[0;32m     19\u001b[0m     \u001b[39mfor\u001b[39;00m line \u001b[39min\u001b[39;00m f:\n\u001b[0;32m     20\u001b[0m         \u001b[39mif\u001b[39;00m line\u001b[39m.\u001b[39mstartswith(\u001b[39m'\u001b[39m\u001b[39mactive\u001b[39m\u001b[39m'\u001b[39m):\n",
      "File \u001b[1;32mc:\\Users\\kilia\\MASTER\\rlpharm\\venv\\lib\\site-packages\\IPython\\core\\interactiveshell.py:284\u001b[0m, in \u001b[0;36m_modified_open\u001b[1;34m(file, *args, **kwargs)\u001b[0m\n\u001b[0;32m    277\u001b[0m \u001b[39mif\u001b[39;00m file \u001b[39min\u001b[39;00m {\u001b[39m0\u001b[39m, \u001b[39m1\u001b[39m, \u001b[39m2\u001b[39m}:\n\u001b[0;32m    278\u001b[0m     \u001b[39mraise\u001b[39;00m \u001b[39mValueError\u001b[39;00m(\n\u001b[0;32m    279\u001b[0m         \u001b[39mf\u001b[39m\u001b[39m\"\u001b[39m\u001b[39mIPython won\u001b[39m\u001b[39m'\u001b[39m\u001b[39mt let you open fd=\u001b[39m\u001b[39m{\u001b[39;00mfile\u001b[39m}\u001b[39;00m\u001b[39m by default \u001b[39m\u001b[39m\"\u001b[39m\n\u001b[0;32m    280\u001b[0m         \u001b[39m\"\u001b[39m\u001b[39mas it is likely to crash IPython. If you know what you are doing, \u001b[39m\u001b[39m\"\u001b[39m\n\u001b[0;32m    281\u001b[0m         \u001b[39m\"\u001b[39m\u001b[39myou can use builtins\u001b[39m\u001b[39m'\u001b[39m\u001b[39m open.\u001b[39m\u001b[39m\"\u001b[39m\n\u001b[0;32m    282\u001b[0m     )\n\u001b[1;32m--> 284\u001b[0m \u001b[39mreturn\u001b[39;00m io_open(file, \u001b[39m*\u001b[39margs, \u001b[39m*\u001b[39m\u001b[39m*\u001b[39mkwargs)\n",
      "\u001b[1;31mFileNotFoundError\u001b[0m: [Errno 2] No such file or directory: 'C:\\\\Users\\\\kilia\\\\MASTER\\\\rlpharm\\\\data\\\\hitlists\\\\hitlist-2023_05_14-03_53_33_741759.sdf'"
     ]
    }
   ],
   "source": [
    "pos, neg = exec_vhts(output, querys, actives_db, inactives_db)"
   ]
  }
 ],
 "metadata": {
  "kernelspec": {
   "display_name": "Python 3",
   "language": "python",
   "name": "python3"
  },
  "language_info": {
   "codemirror_mode": {
    "name": "ipython",
    "version": 3
   },
   "file_extension": ".py",
   "mimetype": "text/x-python",
   "name": "python",
   "nbconvert_exporter": "python",
   "pygments_lexer": "ipython3",
   "version": "3.10.8"
  },
  "orig_nbformat": 4
 },
 "nbformat": 4,
 "nbformat_minor": 2
}
