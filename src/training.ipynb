{
 "cells": [
  {
   "attachments": {},
   "cell_type": "markdown",
   "metadata": {},
   "source": [
    "# Check Environment and Run Training"
   ]
  },
  {
   "cell_type": "code",
   "execution_count": 1,
   "metadata": {},
   "outputs": [],
   "source": [
    "from stable_baselines3.common.env_checker import check_env\n",
    "from stable_baselines3 import PPO\n",
    "from customenv import PharmacophoreEnv\n",
    "from wandb.integration.sb3 import WandbCallback\n",
    "import wandb\n",
    "import time\n",
    "from stable_baselines3.common.monitor import Monitor\n",
    "import gymnasium as gym\n",
    "from gymnasium.envs.registration import register\n",
    "from gymnasium.wrappers import FlattenObservation\n",
    "from stable_baselines3.common.env_util import make_vec_env\n",
    "from stable_baselines3.common.vec_env import SubprocVecEnv, DummyVecEnv\n",
    "import subprocess\n",
    "from datetime import datetime"
   ]
  },
  {
   "cell_type": "code",
   "execution_count": null,
   "metadata": {},
   "outputs": [],
   "source": [
    "register(\n",
    "    # unique identifier for the env `name-version`\n",
    "    id=\"PharmacophoreEnv-v0\",\n",
    "    # path to the class for creating the env\n",
    "    entry_point=\"customenv:PharmacophoreEnv\",\n",
    "    # Max number of steps per episode, using a `TimeLimitWrapper`\n",
    "    kwargs={\"output\": r'C:\\Users\\kilia\\MASTER\\rlpharm\\data\\hitlists\\hitlist', \n",
    "            \"querys\": r'C:\\Users\\kilia\\MASTER\\rlpharm\\data\\querys\\sEH-1ZD5_mod5_LS_3.02.pml', \n",
    "            \"actives_db\": r'C:\\Users\\kilia\\MASTER\\rlpharm\\data\\seh_actives_mini.ldb',\n",
    "            \"inactives_db\": r\"C:\\Users\\kilia\\MASTER\\rlpharm\\data\\seh_inactives_mini.ldb\",\n",
    "            \"ldba\": 36,\n",
    "            \"ldbi\": 112,\n",
    "            \"features\": \"H,HBA,HBD\"},\n",
    ")\n",
    "\n",
    "env = gym.make(\"PharmacophoreEnv-v0\")\n",
    "env.generate_examples(n=20000, csv_file=r\"C:\\Users\\kilia\\MASTER\\rlpharm\\data\\approx.csv\")\n",
    "\n"
   ]
  },
  {
   "cell_type": "code",
   "execution_count": 26,
   "metadata": {},
   "outputs": [
    {
     "name": "stdout",
     "output_type": "stream",
     "text": [
      "False\n",
      "True\n",
      "y is true\n"
     ]
    }
   ],
   "source": [
    "import numpy as np\n",
    "b = np.array([1, 5], dtype=np.float32)\n",
    "x = np.array([1,1,1,1], dtype=np.float32)\n",
    "y = np.array([1,0.9,1,1], dtype=np.float32)\n",
    "q = {'a':x, 'b':y}\n",
    "z = not np.logical_and(np.all(q['a'] <= b[1]), np.all(q['a'] >= b[0]))\n",
    "m = not np.logical_and(np.all(q['b'] <= b[1]), np.all(q['b'] >= b[0]))\n",
    "\n",
    "print(z)\n",
    "print(m)\n",
    "\n",
    "if z or m:\n",
    "    print(\"y is true\")\n",
    "\n"
   ]
  },
  {
   "cell_type": "code",
   "execution_count": 2,
   "metadata": {},
   "outputs": [],
   "source": [
    "output= r'C:\\\\Users\\\\kilia\\\\MASTER\\\\rlpharm\\\\data\\\\hitlists\\\\hitlist'\n",
    "querys= r'C:\\\\Users\\\\kilia\\\\MASTER\\\\rlpharm\\\\data\\\\querys\\\\sEH-1ZD5_mod5_LS_3.02.pml'\n",
    "actives_db= r'C:\\\\Users\\\\kilia\\\\MASTER\\\\rlpharm\\\\data\\\\ldb2s\\\\actives_mini.ldb2:active'\n",
    "inactives_db= r\"C:\\\\Users\\\\kilia\\\\MASTER\\\\rlpharm\\\\data\\\\ldb2s\\\\inactives_mini.ldb2:inactive\"\n",
    "approximator= r\"C:\\Users\\kilia\\MASTER\\rlpharm\\data\\models\\approximator\\best.pt\""
   ]
  },
  {
   "cell_type": "code",
   "execution_count": 8,
   "metadata": {},
   "outputs": [],
   "source": [
    "def exec_vhts(output_file, querys, actives_db, inactives_db):\n",
    "    \"\"\"\n",
    "    Execute VHTS with the given querys\n",
    "    :param querys: path to query file\n",
    "    :param actives_db: path to actives database\n",
    "    :param inactives_db: path to inactives database\n",
    "    :return: count of positive and negative hits as separate values\n",
    "    \"\"\"\n",
    "    datestring = datetime.now().strftime(\"%Y_%m_%d-%I_%M_%S_%f\")\n",
    "    output_file = output_file + '-{}.sdf'.format(datestring)  \n",
    "    arguments = [\"--query\", querys, \"--database\", f\"{actives_db}, {inactives_db}\", \"--output\", output_file]\n",
    "    command = r'C:/Users/kilia/MASTER/rlpharm/LS5/iscreen.sh' + \" \" + \" \".join(arguments)\n",
    "    print(command)\n",
    "    #subprocess.run([\"bash\", r'C:\\Users\\kilia\\MASTER\\rlpharm\\LS5\\iscreen.sh'] + arguments, shell=True)\n",
    "    subprocess.run(['bash', command], shell=True)\n",
    "    poshits = 0\n",
    "    neghits = 0\n",
    "    with open(file= output_file.replace(\"\\\\\\\\\", \"\\\\\") , mode='r') as f:\n",
    "        for line in f:\n",
    "            if line.startswith('active'):\n",
    "                poshits += 1\n",
    "            if line.startswith('decoy'):\n",
    "                neghits += 1\n",
    "    print(\"Hits(pos: \" + str(poshits) + \", neg: \" + str(neghits) + \")\")\n",
    "    return poshits, neghits"
   ]
  },
  {
   "cell_type": "code",
   "execution_count": 9,
   "metadata": {},
   "outputs": [
    {
     "name": "stdout",
     "output_type": "stream",
     "text": [
      "C:/Users/kilia/MASTER/rlpharm/LS5/iscreen.sh --query C:\\\\Users\\\\kilia\\\\MASTER\\\\rlpharm\\\\data\\\\querys\\\\sEH-1ZD5_mod5_LS_3.02.pml --database C:\\\\Users\\\\kilia\\\\MASTER\\\\rlpharm\\\\data\\\\ldb2s\\\\actives_mini.ldb2:active, C:\\\\Users\\\\kilia\\\\MASTER\\\\rlpharm\\\\data\\\\ldb2s\\\\inactives_mini.ldb2:inactive --output C:\\\\Users\\\\kilia\\\\MASTER\\\\rlpharm\\\\data\\\\hitlists\\\\hitlist-2023_05_14-03_53_33_741759.sdf\n"
     ]
    },
    {
     "ename": "FileNotFoundError",
     "evalue": "[Errno 2] No such file or directory: 'C:\\\\Users\\\\kilia\\\\MASTER\\\\rlpharm\\\\data\\\\hitlists\\\\hitlist-2023_05_14-03_53_33_741759.sdf'",
     "output_type": "error",
     "traceback": [
      "\u001b[1;31m---------------------------------------------------------------------------\u001b[0m",
      "\u001b[1;31mFileNotFoundError\u001b[0m                         Traceback (most recent call last)",
      "Cell \u001b[1;32mIn[9], line 1\u001b[0m\n\u001b[1;32m----> 1\u001b[0m pos, neg \u001b[39m=\u001b[39m exec_vhts(output, querys, actives_db, inactives_db)\n",
      "Cell \u001b[1;32mIn[8], line 18\u001b[0m, in \u001b[0;36mexec_vhts\u001b[1;34m(output_file, querys, actives_db, inactives_db)\u001b[0m\n\u001b[0;32m     16\u001b[0m poshits \u001b[39m=\u001b[39m \u001b[39m0\u001b[39m\n\u001b[0;32m     17\u001b[0m neghits \u001b[39m=\u001b[39m \u001b[39m0\u001b[39m\n\u001b[1;32m---> 18\u001b[0m \u001b[39mwith\u001b[39;00m \u001b[39mopen\u001b[39;49m(file\u001b[39m=\u001b[39;49m output_file\u001b[39m.\u001b[39;49mreplace(\u001b[39m\"\u001b[39;49m\u001b[39m\\\\\u001b[39;49;00m\u001b[39m\\\\\u001b[39;49;00m\u001b[39m\"\u001b[39;49m, \u001b[39m\"\u001b[39;49m\u001b[39m\\\\\u001b[39;49;00m\u001b[39m\"\u001b[39;49m) , mode\u001b[39m=\u001b[39;49m\u001b[39m'\u001b[39;49m\u001b[39mr\u001b[39;49m\u001b[39m'\u001b[39;49m) \u001b[39mas\u001b[39;00m f:\n\u001b[0;32m     19\u001b[0m     \u001b[39mfor\u001b[39;00m line \u001b[39min\u001b[39;00m f:\n\u001b[0;32m     20\u001b[0m         \u001b[39mif\u001b[39;00m line\u001b[39m.\u001b[39mstartswith(\u001b[39m'\u001b[39m\u001b[39mactive\u001b[39m\u001b[39m'\u001b[39m):\n",
      "File \u001b[1;32mc:\\Users\\kilia\\MASTER\\rlpharm\\venv\\lib\\site-packages\\IPython\\core\\interactiveshell.py:284\u001b[0m, in \u001b[0;36m_modified_open\u001b[1;34m(file, *args, **kwargs)\u001b[0m\n\u001b[0;32m    277\u001b[0m \u001b[39mif\u001b[39;00m file \u001b[39min\u001b[39;00m {\u001b[39m0\u001b[39m, \u001b[39m1\u001b[39m, \u001b[39m2\u001b[39m}:\n\u001b[0;32m    278\u001b[0m     \u001b[39mraise\u001b[39;00m \u001b[39mValueError\u001b[39;00m(\n\u001b[0;32m    279\u001b[0m         \u001b[39mf\u001b[39m\u001b[39m\"\u001b[39m\u001b[39mIPython won\u001b[39m\u001b[39m'\u001b[39m\u001b[39mt let you open fd=\u001b[39m\u001b[39m{\u001b[39;00mfile\u001b[39m}\u001b[39;00m\u001b[39m by default \u001b[39m\u001b[39m\"\u001b[39m\n\u001b[0;32m    280\u001b[0m         \u001b[39m\"\u001b[39m\u001b[39mas it is likely to crash IPython. If you know what you are doing, \u001b[39m\u001b[39m\"\u001b[39m\n\u001b[0;32m    281\u001b[0m         \u001b[39m\"\u001b[39m\u001b[39myou can use builtins\u001b[39m\u001b[39m'\u001b[39m\u001b[39m open.\u001b[39m\u001b[39m\"\u001b[39m\n\u001b[0;32m    282\u001b[0m     )\n\u001b[1;32m--> 284\u001b[0m \u001b[39mreturn\u001b[39;00m io_open(file, \u001b[39m*\u001b[39margs, \u001b[39m*\u001b[39m\u001b[39m*\u001b[39mkwargs)\n",
      "\u001b[1;31mFileNotFoundError\u001b[0m: [Errno 2] No such file or directory: 'C:\\\\Users\\\\kilia\\\\MASTER\\\\rlpharm\\\\data\\\\hitlists\\\\hitlist-2023_05_14-03_53_33_741759.sdf'"
     ]
    }
   ],
   "source": [
    "pos, neg = exec_vhts(output, querys, actives_db, inactives_db)"
   ]
  }
 ],
 "metadata": {
  "kernelspec": {
   "display_name": "Python 3",
   "language": "python",
   "name": "python3"
  },
  "language_info": {
   "codemirror_mode": {
    "name": "ipython",
    "version": 3
   },
   "file_extension": ".py",
   "mimetype": "text/x-python",
   "name": "python",
   "nbconvert_exporter": "python",
   "pygments_lexer": "ipython3",
   "version": "3.10.8"
  },
  "orig_nbformat": 4
 },
 "nbformat": 4,
 "nbformat_minor": 2
}
