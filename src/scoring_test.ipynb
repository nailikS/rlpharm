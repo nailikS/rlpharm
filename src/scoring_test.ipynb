{
 "cells": [
  {
   "cell_type": "code",
   "execution_count": 2,
   "metadata": {},
   "outputs": [],
   "source": [
    "import utils\n",
    "from sklearn.metrics import roc_auc_score, roc_curve\n",
    "import numpy as np"
   ]
  },
  {
   "cell_type": "code",
   "execution_count": 10,
   "metadata": {},
   "outputs": [],
   "source": [
    "output_file = r'C:\\\\Users\\\\kilia\\\\MASTER\\\\rlpharm\\\\data\\\\hitlists\\\\hitlist'\n",
    "querys = r'C:\\\\Users\\\\kilia\\\\MASTER\\\\rlpharm\\\\data\\\\querys\\\\sEH-1ZD5_mod5_LS_3.02_infer_best.pml'\n",
    "actives_db = r'C:\\\\Users\\\\kilia\\\\MASTER\\\\rlpharm\\\\data\\\\ldb2s\\\\actives.ldb2:active'\n",
    "inactives_db = r\"C:\\\\Users\\\\kilia\\\\MASTER\\\\rlpharm\\\\data\\\\ldb2s\\\\inactives.ldb2:inactive\"\n",
    "hits, scores, pos, neg = utils.exec_vhts(output_file, querys, actives_db, inactives_db)"
   ]
  },
  {
   "cell_type": "code",
   "execution_count": 11,
   "metadata": {},
   "outputs": [
    {
     "name": "stdout",
     "output_type": "stream",
     "text": [
      "26 15\n"
     ]
    }
   ],
   "source": [
    "print(f\"{sum(hits)} {hits.count(0)}\")"
   ]
  },
  {
   "cell_type": "code",
   "execution_count": 12,
   "metadata": {},
   "outputs": [
    {
     "data": {
      "text/plain": [
       "0.47948717948717945"
      ]
     },
     "execution_count": 12,
     "metadata": {},
     "output_type": "execute_result"
    }
   ],
   "source": [
    "hitlist = hits\n",
    "roc_auc_score(hits, scores)"
   ]
  },
  {
   "cell_type": "code",
   "execution_count": 13,
   "metadata": {},
   "outputs": [
    {
     "name": "stdout",
     "output_type": "stream",
     "text": [
      "[26 27 28 29 30 31 32 33 34 35 36 37 38 39 40]\n"
     ]
    }
   ],
   "source": [
    "idx = np.where(np.array(hits) == 0)[0]\n",
    "print(idx)\n",
    "j=0\n",
    "for i in idx:\n",
    "    hits = np.insert(hits, i+j, np.zeros(9))\n",
    "    scores = np.insert(scores, i+j, np.full(9,scores[i+j])) \n",
    "    j += 9"
   ]
  },
  {
   "cell_type": "code",
   "execution_count": 14,
   "metadata": {},
   "outputs": [
    {
     "data": {
      "text/plain": [
       "array([43.58379 , 43.728706, 42.53597 , 44.010002, 43.86148 , 43.903664,\n",
       "       44.723698, 43.898426, 43.955795, 45.039986, 43.423283, 43.979744,\n",
       "       44.533108, 43.85082 , 43.89495 , 43.775597, 43.469658, 43.903404,\n",
       "       43.84559 , 45.76776 , 43.429325, 43.338993, 44.842693, 43.36879 ,\n",
       "       44.28854 , 43.831135, 43.618877, 43.618877, 43.618877, 43.618877,\n",
       "       43.618877, 43.618877, 43.618877, 43.618877, 43.618877, 43.618877,\n",
       "       43.91335 , 43.91335 , 43.91335 , 43.91335 , 43.91335 , 43.91335 ,\n",
       "       43.91335 , 43.91335 , 43.91335 , 43.91335 , 43.757843, 43.757843,\n",
       "       43.757843, 43.757843, 43.757843, 43.757843, 43.757843, 43.757843,\n",
       "       43.757843, 43.757843, 44.649597, 44.649597, 44.649597, 44.649597,\n",
       "       44.649597, 44.649597, 44.649597, 44.649597, 44.649597, 44.649597,\n",
       "       43.32969 , 43.32969 , 43.32969 , 43.32969 , 43.32969 , 43.32969 ,\n",
       "       43.32969 , 43.32969 , 43.32969 , 43.32969 , 44.170124, 44.170124,\n",
       "       44.170124, 44.170124, 44.170124, 44.170124, 44.170124, 44.170124,\n",
       "       44.170124, 44.170124, 46.00451 , 46.00451 , 46.00451 , 46.00451 ,\n",
       "       46.00451 , 46.00451 , 46.00451 , 46.00451 , 46.00451 , 46.00451 ,\n",
       "       43.572674, 43.572674, 43.572674, 43.572674, 43.572674, 43.572674,\n",
       "       43.572674, 43.572674, 43.572674, 43.572674, 45.677948, 45.677948,\n",
       "       45.677948, 45.677948, 45.677948, 45.677948, 45.677948, 45.677948,\n",
       "       45.677948, 45.677948, 43.856754, 43.856754, 43.856754, 43.856754,\n",
       "       43.856754, 43.856754, 43.856754, 43.856754, 43.856754, 43.856754,\n",
       "       43.868633, 43.868633, 43.868633, 43.868633, 43.868633, 43.868633,\n",
       "       43.868633, 43.868633, 43.868633, 43.868633, 44.735622, 44.735622,\n",
       "       44.735622, 44.735622, 44.735622, 44.735622, 44.735622, 44.735622,\n",
       "       44.735622, 44.735622, 42.136166, 42.136166, 42.136166, 42.136166,\n",
       "       42.136166, 42.136166, 42.136166, 42.136166, 42.136166, 42.136166,\n",
       "       44.721996, 44.721996, 44.721996, 44.721996, 44.721996, 44.721996,\n",
       "       44.721996, 44.721996, 44.721996, 44.721996, 42.813786, 42.813786,\n",
       "       42.813786, 42.813786, 42.813786, 42.813786, 42.813786, 42.813786,\n",
       "       42.813786, 42.813786])"
      ]
     },
     "execution_count": 14,
     "metadata": {},
     "output_type": "execute_result"
    }
   ],
   "source": [
    "scores"
   ]
  },
  {
   "cell_type": "code",
   "execution_count": 15,
   "metadata": {},
   "outputs": [
    {
     "data": {
      "text/plain": [
       "array([1, 1, 1, 1, 1, 1, 1, 1, 1, 1, 1, 1, 1, 1, 1, 1, 1, 1, 1, 1, 1, 1,\n",
       "       1, 1, 1, 1, 0, 0, 0, 0, 0, 0, 0, 0, 0, 0, 0, 0, 0, 0, 0, 0, 0, 0,\n",
       "       0, 0, 0, 0, 0, 0, 0, 0, 0, 0, 0, 0, 0, 0, 0, 0, 0, 0, 0, 0, 0, 0,\n",
       "       0, 0, 0, 0, 0, 0, 0, 0, 0, 0, 0, 0, 0, 0, 0, 0, 0, 0, 0, 0, 0, 0,\n",
       "       0, 0, 0, 0, 0, 0, 0, 0, 0, 0, 0, 0, 0, 0, 0, 0, 0, 0, 0, 0, 0, 0,\n",
       "       0, 0, 0, 0, 0, 0, 0, 0, 0, 0, 0, 0, 0, 0, 0, 0, 0, 0, 0, 0, 0, 0,\n",
       "       0, 0, 0, 0, 0, 0, 0, 0, 0, 0, 0, 0, 0, 0, 0, 0, 0, 0, 0, 0, 0, 0,\n",
       "       0, 0, 0, 0, 0, 0, 0, 0, 0, 0, 0, 0, 0, 0, 0, 0, 0, 0, 0, 0, 0, 0])"
      ]
     },
     "execution_count": 15,
     "metadata": {},
     "output_type": "execute_result"
    }
   ],
   "source": [
    "hits"
   ]
  },
  {
   "cell_type": "code",
   "execution_count": 16,
   "metadata": {},
   "outputs": [
    {
     "data": {
      "text/plain": [
       "0.47948717948717945"
      ]
     },
     "execution_count": 16,
     "metadata": {},
     "output_type": "execute_result"
    }
   ],
   "source": [
    "roc_auc_score(hits, scores)"
   ]
  },
  {
   "cell_type": "code",
   "execution_count": 44,
   "metadata": {},
   "outputs": [],
   "source": [
    "hits = [0, 1, 1, 1, 1, 1, 1, 1, 1, 0]\n",
    "scores =[0.4, 0.41, 0.42, 0.43, 0.44, 0.45, 0.46, 0.47, 0.48, 0.49]"
   ]
  },
  {
   "cell_type": "code",
   "execution_count": 36,
   "metadata": {},
   "outputs": [],
   "source": [
    "import math\n",
    "def insert_elements(i, j):\n",
    "    i = np.ones(i)\n",
    "    j = np.zeros(j)   \n",
    "    n = len(i)  # Length of the array to be inserted\n",
    "    m = len(j)  # Length of the target array\n",
    "    if n == 0:  # If the array to be inserted is empty, return the target array as it is\n",
    "        return j\n",
    "    interval = math.ceil(m / n)  # interval to distribute the indices evenly\n",
    "    index = 0\n",
    "    for element in i:\n",
    "        j.insert(index, element)  # Insert the element\n",
    "        index += interval + 1 \n",
    "    return j.tolist, np.full(len(j), 0).tolist()\n",
    "\n",
    "def scoring(hits:list, scores:list, ldbi:int, ldba:int):\n",
    "        \"\"\"\n",
    "        Calculate score\n",
    "        :param hits: list of hit labels (0=FP or 1:TP)\n",
    "        :param scores: list of pharmacophore fit scores\n",
    "        :param ldbi: number of inactive compounds in the database\n",
    "        :param ldba: number of active compounds in the database\n",
    "        :return: rocAUC of the hitlist\n",
    "        \"\"\"     \n",
    "        a_hits, a_scores = insert_elements(ldba-sum(hits), ldbi-(len(hits)-sum(hits)))\n",
    "        sorted_hits = sorted(zip(scores.extend(a_scores), hits.extend(a_hits)), key=lambda x: x[0], reverse=True)\n",
    "        sorted_true_labels = [label for _, label in sorted_hits]\n",
    "\n",
    "        # Calculate the true positive count and false positive count\n",
    "        num_positives = sum(sorted_true_labels)\n",
    "        num_negatives = len(sorted_true_labels) - num_positives\n",
    "\n",
    "        # Create arrays to store true positive rates and false positive rates\n",
    "        tpr = np.zeros(len(sorted_true_labels))\n",
    "        fpr = np.zeros(len(sorted_true_labels))\n",
    "\n",
    "        # Iterate through the sorted hits to compute TPR and FPR\n",
    "        tp_count = 0\n",
    "        fp_count = 0\n",
    "        for i, (_, label) in enumerate(sorted_hits):\n",
    "            if label == 1:\n",
    "                tp_count += 1\n",
    "            if label == 0:\n",
    "                fp_count += 1\n",
    "\n",
    "            tpr[i] = tp_count / num_positives\n",
    "            fpr[i] = fp_count / num_negatives  \n",
    "\n",
    "        # Calculate the ROC AUC using the trapezoidal rule\n",
    "        roc_auc = np.trapz(tpr, fpr)\n",
    "        return roc_auc"
   ]
  },
  {
   "cell_type": "code",
   "execution_count": 56,
   "metadata": {},
   "outputs": [
    {
     "data": {
      "text/plain": [
       "0.875"
      ]
     },
     "execution_count": 56,
     "metadata": {},
     "output_type": "execute_result"
    }
   ],
   "source": [
    "scoring(hits, scores)"
   ]
  },
  {
   "cell_type": "code",
   "execution_count": 7,
   "metadata": {},
   "outputs": [],
   "source": [
    "def weighted_roc_auc(y_true, y_pred_prob, fp_weight):\n",
    "            fp_weighted_labels = [fp_weight if y_true == 0 else 1 for _ in y_true]  # Weight false positives\n",
    "            roc_auc = roc_auc_score(y_true, y_pred_prob, sample_weight=fp_weighted_labels)\n",
    "            return roc_auc\n",
    "            \n",
    "def scoring(hits, scores):\n",
    "    \"\"\"\n",
    "    Calculate score\n",
    "    :param hits: list of hit labels (0=FP or 1:TP)\n",
    "    :param scores: list of pharmacophore fit scores\n",
    "    :return: rocAUC of the hitlist\n",
    "    \"\"\"     \n",
    "    # Calculate ROC AUC with weighted cost for false positives\n",
    "    # Set the weight for false positives\n",
    "    weight = 10\n",
    "    return weighted_roc_auc(hits, scores, weight), roc_auc_score(hits, scores)"
   ]
  },
  {
   "cell_type": "code",
   "execution_count": 43,
   "metadata": {},
   "outputs": [
    {
     "data": {
      "text/plain": [
       "0.3333333333333333"
      ]
     },
     "execution_count": 43,
     "metadata": {},
     "output_type": "execute_result"
    }
   ],
   "source": [
    "roc_auc_score(hits, scores)"
   ]
  },
  {
   "cell_type": "code",
   "execution_count": 11,
   "metadata": {},
   "outputs": [
    {
     "data": {
      "text/plain": [
       "(array([0.        , 0.09090909, 0.09090909, 0.18181818, 0.18181818,\n",
       "        0.36363636, 0.36363636, 0.45454545, 0.45454545, 0.54545455,\n",
       "        0.54545455, 0.63636364, 0.63636364, 0.72727273, 0.72727273,\n",
       "        0.81818182, 0.81818182, 1.        , 1.        ]),\n",
       " array([0.        , 0.        , 0.11538462, 0.11538462, 0.26923077,\n",
       "        0.26923077, 0.38461538, 0.38461538, 0.53846154, 0.53846154,\n",
       "        0.73076923, 0.73076923, 0.76923077, 0.76923077, 0.80769231,\n",
       "        0.80769231, 0.96153846, 0.96153846, 1.        ]),\n",
       " array([47.004494, 46.004494, 45.76776 , 45.677948, 44.769142, 44.704212,\n",
       "        44.422855, 44.30406 , 44.04951 , 43.99253 , 43.881893, 43.868633,\n",
       "        43.852295, 43.825985, 43.819466, 43.757633, 43.40404 , 43.199867,\n",
       "        43.101425]))"
      ]
     },
     "execution_count": 11,
     "metadata": {},
     "output_type": "execute_result"
    }
   ],
   "source": [
    "roc_curve(hits, scores)"
   ]
  },
  {
   "cell_type": "code",
   "execution_count": 50,
   "metadata": {},
   "outputs": [
    {
     "data": {
      "image/png": "[encoded data removed]",
      "text/plain": [
       "<Figure size 640x480 with 1 Axes>"
      ]
     },
     "metadata": {},
     "output_type": "display_data"
    }
   ],
   "source": [
    "import matplotlib.pyplot as plt\n",
    "fpr, tpr, thresholds = roc_curve(hits, scores)\n",
    "auc = roc_auc_score(hits, scores)\n",
    "# Plot the ROC curve\n",
    "plt.plot(fpr, tpr, label='ROC curve (AUC = {:.2f})'.format(auc))\n",
    "plt.plot([0, 1], [0, 1], linestyle='--', color='r', label='Random')\n",
    "plt.xlabel('False Positive Rate')\n",
    "plt.ylabel('True Positive Rate')\n",
    "plt.title('Receiver Operating Characteristic (ROC) Curve')\n",
    "plt.legend()\n",
    "plt.show()\n"
   ]
  }
 ],
 "metadata": {
  "kernelspec": {
   "display_name": "venv",
   "language": "python",
   "name": "python3"
  },
  "language_info": {
   "codemirror_mode": {
    "name": "ipython",
    "version": 3
   },
   "file_extension": ".py",
   "mimetype": "text/x-python",
   "name": "python",
   "nbconvert_exporter": "python",
   "pygments_lexer": "ipython3",
   "version": "3.10.8"
  },
  "orig_nbformat": 4
 },
 "nbformat": 4,
 "nbformat_minor": 2
}
