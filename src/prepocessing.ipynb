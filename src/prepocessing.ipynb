{
 "cells": [
  {
   "cell_type": "code",
   "execution_count": 1,
   "metadata": {},
   "outputs": [],
   "source": [
    "import numpy as np\n",
    "import pandas as pd\n",
    "import matplotlib.pyplot as plt\n",
    "import seaborn as sns"
   ]
  },
  {
   "cell_type": "code",
   "execution_count": 2,
   "metadata": {},
   "outputs": [],
   "source": [
    "df = pd.read_csv(\"../data/approxCollection.csv\")"
   ]
  },
  {
   "cell_type": "code",
   "execution_count": 34,
   "metadata": {},
   "outputs": [
    {
     "data": {
      "text/html": [
       "<div>\n",
       "<style scoped>\n",
       "    .dataframe tbody tr th:only-of-type {\n",
       "        vertical-align: middle;\n",
       "    }\n",
       "\n",
       "    .dataframe tbody tr th {\n",
       "        vertical-align: top;\n",
       "    }\n",
       "\n",
       "    .dataframe thead th {\n",
       "        text-align: right;\n",
       "    }\n",
       "</style>\n",
       "<table border=\"1\" class=\"dataframe\">\n",
       "  <thead>\n",
       "    <tr style=\"text-align: right;\">\n",
       "      <th></th>\n",
       "      <th>Reward</th>\n",
       "      <th>Feature0</th>\n",
       "      <th>Feature1</th>\n",
       "      <th>Feature2</th>\n",
       "      <th>Feature3</th>\n",
       "      <th>Feature4</th>\n",
       "      <th>Feature5</th>\n",
       "      <th>Feature6</th>\n",
       "    </tr>\n",
       "  </thead>\n",
       "  <tbody>\n",
       "    <tr>\n",
       "      <th>0</th>\n",
       "      <td>5.031298</td>\n",
       "      <td>1.5</td>\n",
       "      <td>1.5</td>\n",
       "      <td>1.95</td>\n",
       "      <td>1.5</td>\n",
       "      <td>1.85</td>\n",
       "      <td>1.95</td>\n",
       "      <td>1.5</td>\n",
       "    </tr>\n",
       "    <tr>\n",
       "      <th>1</th>\n",
       "      <td>5.539822</td>\n",
       "      <td>1.5</td>\n",
       "      <td>1.4</td>\n",
       "      <td>1.95</td>\n",
       "      <td>1.5</td>\n",
       "      <td>1.85</td>\n",
       "      <td>1.95</td>\n",
       "      <td>1.5</td>\n",
       "    </tr>\n",
       "    <tr>\n",
       "      <th>2</th>\n",
       "      <td>5.539822</td>\n",
       "      <td>1.5</td>\n",
       "      <td>1.4</td>\n",
       "      <td>1.85</td>\n",
       "      <td>1.5</td>\n",
       "      <td>1.85</td>\n",
       "      <td>1.95</td>\n",
       "      <td>1.5</td>\n",
       "    </tr>\n",
       "    <tr>\n",
       "      <th>3</th>\n",
       "      <td>6.181434</td>\n",
       "      <td>1.5</td>\n",
       "      <td>1.3</td>\n",
       "      <td>1.85</td>\n",
       "      <td>1.5</td>\n",
       "      <td>1.85</td>\n",
       "      <td>1.95</td>\n",
       "      <td>1.5</td>\n",
       "    </tr>\n",
       "    <tr>\n",
       "      <th>4</th>\n",
       "      <td>6.181434</td>\n",
       "      <td>1.6</td>\n",
       "      <td>1.3</td>\n",
       "      <td>1.85</td>\n",
       "      <td>1.5</td>\n",
       "      <td>1.85</td>\n",
       "      <td>1.95</td>\n",
       "      <td>1.5</td>\n",
       "    </tr>\n",
       "    <tr>\n",
       "      <th>...</th>\n",
       "      <td>...</td>\n",
       "      <td>...</td>\n",
       "      <td>...</td>\n",
       "      <td>...</td>\n",
       "      <td>...</td>\n",
       "      <td>...</td>\n",
       "      <td>...</td>\n",
       "      <td>...</td>\n",
       "    </tr>\n",
       "    <tr>\n",
       "      <th>37478</th>\n",
       "      <td>2.495335</td>\n",
       "      <td>3.3</td>\n",
       "      <td>3.8</td>\n",
       "      <td>2.20</td>\n",
       "      <td>3.8</td>\n",
       "      <td>2.20</td>\n",
       "      <td>2.10</td>\n",
       "      <td>1.3</td>\n",
       "    </tr>\n",
       "    <tr>\n",
       "      <th>37479</th>\n",
       "      <td>2.700886</td>\n",
       "      <td>3.3</td>\n",
       "      <td>3.8</td>\n",
       "      <td>2.20</td>\n",
       "      <td>3.8</td>\n",
       "      <td>2.20</td>\n",
       "      <td>2.10</td>\n",
       "      <td>1.2</td>\n",
       "    </tr>\n",
       "    <tr>\n",
       "      <th>37480</th>\n",
       "      <td>2.700886</td>\n",
       "      <td>3.3</td>\n",
       "      <td>3.8</td>\n",
       "      <td>2.20</td>\n",
       "      <td>3.8</td>\n",
       "      <td>2.20</td>\n",
       "      <td>2.10</td>\n",
       "      <td>1.1</td>\n",
       "    </tr>\n",
       "    <tr>\n",
       "      <th>37481</th>\n",
       "      <td>2.883722</td>\n",
       "      <td>3.3</td>\n",
       "      <td>3.8</td>\n",
       "      <td>2.20</td>\n",
       "      <td>3.8</td>\n",
       "      <td>2.20</td>\n",
       "      <td>2.10</td>\n",
       "      <td>1.0</td>\n",
       "    </tr>\n",
       "    <tr>\n",
       "      <th>37482</th>\n",
       "      <td>2.883722</td>\n",
       "      <td>3.3</td>\n",
       "      <td>3.8</td>\n",
       "      <td>2.20</td>\n",
       "      <td>3.8</td>\n",
       "      <td>2.20</td>\n",
       "      <td>2.10</td>\n",
       "      <td>0.9</td>\n",
       "    </tr>\n",
       "  </tbody>\n",
       "</table>\n",
       "<p>37483 rows × 8 columns</p>\n",
       "</div>"
      ],
      "text/plain": [
       "         Reward  Feature0  Feature1  Feature2  Feature3  Feature4  Feature5   \n",
       "0      5.031298       1.5       1.5      1.95       1.5      1.85      1.95  \\\n",
       "1      5.539822       1.5       1.4      1.95       1.5      1.85      1.95   \n",
       "2      5.539822       1.5       1.4      1.85       1.5      1.85      1.95   \n",
       "3      6.181434       1.5       1.3      1.85       1.5      1.85      1.95   \n",
       "4      6.181434       1.6       1.3      1.85       1.5      1.85      1.95   \n",
       "...         ...       ...       ...       ...       ...       ...       ...   \n",
       "37478  2.495335       3.3       3.8      2.20       3.8      2.20      2.10   \n",
       "37479  2.700886       3.3       3.8      2.20       3.8      2.20      2.10   \n",
       "37480  2.700886       3.3       3.8      2.20       3.8      2.20      2.10   \n",
       "37481  2.883722       3.3       3.8      2.20       3.8      2.20      2.10   \n",
       "37482  2.883722       3.3       3.8      2.20       3.8      2.20      2.10   \n",
       "\n",
       "       Feature6  \n",
       "0           1.5  \n",
       "1           1.5  \n",
       "2           1.5  \n",
       "3           1.5  \n",
       "4           1.5  \n",
       "...         ...  \n",
       "37478       1.3  \n",
       "37479       1.2  \n",
       "37480       1.1  \n",
       "37481       1.0  \n",
       "37482       0.9  \n",
       "\n",
       "[37483 rows x 8 columns]"
      ]
     },
     "execution_count": 34,
     "metadata": {},
     "output_type": "execute_result"
    }
   ],
   "source": [
    "df"
   ]
  },
  {
   "cell_type": "code",
   "execution_count": 7,
   "metadata": {},
   "outputs": [],
   "source": [
    "df0 = pd.read_csv(\"../data/approxLarge.csv\")\n",
    "df1 = pd.read_csv(\"../data/approxWobly.csv\")\n",
    "df2 = pd.read_csv(\"../data/approx1000.csv\")\n",
    "df3 = pd.read_csv(\"../data/approxXd.csv\")\n",
    "df4 = pd.read_csv(\"../data/approx200.csv\")\n",
    "df2 = df2.drop(columns=[\"Step\"])\n",
    "df4 = df4.drop(columns=[\"Step\"])\n",
    "dfs = [df0, df1, df2, df3, df4]"
   ]
  },
  {
   "cell_type": "code",
   "execution_count": 35,
   "metadata": {},
   "outputs": [],
   "source": [
    "# df.Reward = df.Reward.round(3)\n",
    "df = df.drop_duplicates()"
   ]
  },
  {
   "cell_type": "code",
   "execution_count": 3,
   "metadata": {},
   "outputs": [],
   "source": [
    "df.sort_values(by=['Reward'], ascending=False).head(10).to_csv(\"../data/top10.csv\", index=False)"
   ]
  },
  {
   "cell_type": "code",
   "execution_count": 1,
   "metadata": {},
   "outputs": [],
   "source": [
    "from gymnasium.envs.registration import register\n",
    "import gymnasium as gym\n",
    "register(\n",
    "    # unique identifier for the env `name-version`\n",
    "    id=\"PharmacophoreEnv-v0\",\n",
    "    # path to the class for creating the env\n",
    "    entry_point=\"customenv:PharmacophoreEnv\",\n",
    "    max_episode_steps=200,\n",
    "    # Max number of steps per episode, using a `TimeLimitWrapper`\n",
    "    kwargs={\n",
    "        \"output\": r'C:\\\\Users\\\\kilia\\\\MASTER\\\\rlpharm\\\\data\\\\hitlists\\\\hitlist', \n",
    "        \"querys\": r'C:\\\\Users\\\\kilia\\\\MASTER\\\\rlpharm\\\\data\\\\querys\\\\sEH-1ZD5_mod5_LS_3.02.pml', \n",
    "        \"actives_db\": r'C:\\\\Users\\\\kilia\\\\MASTER\\\\rlpharm\\\\data\\\\ldb2s\\\\actives_mini.ldb2',\n",
    "        \"inactives_db\": r\"C:\\\\Users\\\\kilia\\\\MASTER\\\\rlpharm\\\\data\\\\ldb2s\\\\inactives_mini.ldb2\",\n",
    "        \"approximator\": r\"C:\\Users\\kilia\\MASTER\\rlpharm\\data\\models\\approximator\\best.pt\",\n",
    "        \"ldba\": 36,\n",
    "        \"ldbi\": 112,\n",
    "        \"features\": \"H,HBA,HBD\",\n",
    "        \"enable_approximator\": False,\n",
    "        \"hybrid_reward\": True,\n",
    "        \"inf_mode\": False\n",
    "        },\n",
    ")\n",
    "env = gym.make(\"PharmacophoreEnv-v0\")"
   ]
  },
  {
   "cell_type": "code",
   "execution_count": 40,
   "metadata": {},
   "outputs": [
    {
     "data": {
      "text/html": [
       "<div>\n",
       "<style scoped>\n",
       "    .dataframe tbody tr th:only-of-type {\n",
       "        vertical-align: middle;\n",
       "    }\n",
       "\n",
       "    .dataframe tbody tr th {\n",
       "        vertical-align: top;\n",
       "    }\n",
       "\n",
       "    .dataframe thead th {\n",
       "        text-align: right;\n",
       "    }\n",
       "</style>\n",
       "<table border=\"1\" class=\"dataframe\">\n",
       "  <thead>\n",
       "    <tr style=\"text-align: right;\">\n",
       "      <th></th>\n",
       "      <th>Reward</th>\n",
       "      <th>Feature0</th>\n",
       "      <th>Feature1</th>\n",
       "      <th>Feature2</th>\n",
       "      <th>Feature3</th>\n",
       "      <th>Feature4</th>\n",
       "      <th>Feature5</th>\n",
       "      <th>Feature6</th>\n",
       "    </tr>\n",
       "  </thead>\n",
       "  <tbody>\n",
       "    <tr>\n",
       "      <th>3320</th>\n",
       "      <td>16.927083</td>\n",
       "      <td>1.53</td>\n",
       "      <td>2.88</td>\n",
       "      <td>3.05</td>\n",
       "      <td>1.48</td>\n",
       "      <td>1.95</td>\n",
       "      <td>1.92</td>\n",
       "      <td>2.33</td>\n",
       "    </tr>\n",
       "  </tbody>\n",
       "</table>\n",
       "</div>"
      ],
      "text/plain": [
       "         Reward  Feature0  Feature1  Feature2  Feature3  Feature4  Feature5   \n",
       "3320  16.927083      1.53      2.88      3.05      1.48      1.95      1.92  \\\n",
       "\n",
       "      Feature6  \n",
       "3320      2.33  "
      ]
     },
     "execution_count": 40,
     "metadata": {},
     "output_type": "execute_result"
    }
   ],
   "source": [
    "df[df[\"Reward\"] == df[\"Reward\"].max()]"
   ]
  },
  {
   "cell_type": "code",
   "execution_count": 45,
   "metadata": {},
   "outputs": [],
   "source": [
    "def scoring(actives, inactives):\n",
    "    \"\"\"\n",
    "    Calculate score\n",
    "    :return: score query pharmacophores against actives and inactives database        \n",
    "    \"\"\"       \n",
    "    if actives == 0:\n",
    "        return 0\n",
    "    EF = (actives/(actives+inactives))/(58/(58+177))\n",
    "    print(EF)\n",
    "    if inactives == 0:\n",
    "        inactives = 1\n",
    "    score = (EF + actives) / (inactives)\n",
    "    return score\n"
   ]
  },
  {
   "cell_type": "code",
   "execution_count": 46,
   "metadata": {},
   "outputs": [
    {
     "name": "stdout",
     "output_type": "stream",
     "text": [
      "3.1513409961685825\n"
     ]
    },
    {
     "data": {
      "text/plain": [
       "4.287835249042145"
      ]
     },
     "execution_count": 46,
     "metadata": {},
     "output_type": "execute_result"
    }
   ],
   "source": [
    "scoring(14,4)"
   ]
  },
  {
   "cell_type": "code",
   "execution_count": 11,
   "metadata": {},
   "outputs": [],
   "source": [
    "bdf = pd.concat(dfs)\n",
    "bdf = bdf.drop_duplicates()"
   ]
  },
  {
   "cell_type": "code",
   "execution_count": 13,
   "metadata": {},
   "outputs": [],
   "source": [
    "bdf = bdf[(bdf.Feature0 > 1) & (bdf.Feature1 > 1) & (bdf.Feature2 > 1) & (bdf.Feature3 > 1) & (bdf.Feature4 > 1) & (bdf.Feature5 > 1) & (bdf.Feature6 > 1)]\n",
    "bdf = bdf[(bdf.Feature0 < 6) & (bdf.Feature1 < 6) & (bdf.Feature2 < 6) & (bdf.Feature3 < 6) & (bdf.Feature4 < 6) & (bdf.Feature5 < 6) & (bdf.Feature6 < 6)]"
   ]
  },
  {
   "cell_type": "code",
   "execution_count": 28,
   "metadata": {},
   "outputs": [
    {
     "data": {
      "image/png": "[encoded data removed]",
      "text/plain": [
       "<Figure size 640x480 with 1 Axes>"
      ]
     },
     "metadata": {},
     "output_type": "display_data"
    }
   ],
   "source": [
    "#sns.pairplot(data=bdf)\n",
    "# histogram of rewards\n",
    "sns.histplot(data=df, x=\"Reward\", bins=20)\n",
    "plt.show()"
   ]
  },
  {
   "cell_type": "code",
   "execution_count": 20,
   "metadata": {},
   "outputs": [],
   "source": [
    "bdf = bdf.sample(frac=1).reset_index(drop=True)\n",
    "bdf.to_csv(\"../data/approxCollection.csv\", index=False)"
   ]
  },
  {
   "cell_type": "code",
   "execution_count": 29,
   "metadata": {},
   "outputs": [],
   "source": [
    "df.to_csv(\"../data/approxCollection.csv\", index=False)"
   ]
  }
 ],
 "metadata": {
  "kernelspec": {
   "display_name": "venv",
   "language": "python",
   "name": "python3"
  },
  "language_info": {
   "codemirror_mode": {
    "name": "ipython",
    "version": 3
   },
   "file_extension": ".py",
   "mimetype": "text/x-python",
   "name": "python",
   "nbconvert_exporter": "python",
   "pygments_lexer": "ipython3",
   "version": "3.10.8"
  },
  "orig_nbformat": 4
 },
 "nbformat": 4,
 "nbformat_minor": 2
}
