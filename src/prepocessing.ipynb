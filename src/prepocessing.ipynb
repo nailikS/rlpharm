{
 "cells": [
  {
   "cell_type": "code",
   "execution_count": 3,
   "metadata": {},
   "outputs": [
    {
     "name": "stderr",
     "output_type": "stream",
     "text": [
      "c:\\Users\\kilia\\AppData\\Local\\Programs\\Python\\Python310\\lib\\site-packages\\gymnasium\\envs\\registration.py:693: UserWarning: \u001b[33mWARN: Overriding environment PharmacophoreEnv-v0 already in registry.\u001b[0m\n",
      "  logger.warn(f\"Overriding environment {new_spec.id} already in registry.\")\n"
     ]
    }
   ],
   "source": [
    "from gymnasium.envs.registration import register\n",
    "import gymnasium as gym\n",
    "register(\n",
    "    # unique identifier for the env `name-version`\n",
    "    id=\"PharmacophoreEnv-v0\",\n",
    "    # path to the class for creating the env\n",
    "    entry_point= \"customenv:PharmacophoreEnv\",\n",
    "    max_episode_steps=200,\n",
    "    # Max number of steps per episode, using a `TimeLimitWrapper`\n",
    "    kwargs={\"output\": r'C:\\\\Users\\\\kilia\\\\MASTER\\\\rlpharm\\\\data\\\\hitlists\\\\hitlist', \n",
    "            \"querys\": r'C:\\\\Users\\\\kilia\\\\MASTER\\\\rlpharm\\\\data\\\\querys\\\\sEH-1ZD5-mod5-LS-3.02.pml', \n",
    "            \"actives_db\": r'C:\\\\Users\\\\kilia\\\\MASTER\\\\rlpharm\\\\data\\\\ldb2s\\\\actives.ldb2',\n",
    "            \"inactives_db\": r\"C:\\\\Users\\\\kilia\\\\MASTER\\\\rlpharm\\\\data\\\\ldb2s\\\\inactives.ldb2\",\n",
    "            \"data_dir\": \"C:\\\\Users\\\\kilia\\\\MASTER\\\\rlpharm\\\\data\\\\\",\n",
    "            \"ldba\": 58, # 58|36\n",
    "            \"ldbi\": 177, # 177|112\n",
    "            \"features\": \"H,HBA,HBD\",\n",
    "            \"enable_approximator\": False,\n",
    "            \"hybrid_reward\": False,\n",
    "            \"inf_mode\": False,\n",
    "            \"threshold\": 0.75,\n",
    "            \"render_mode\": \"console\",\n",
    "            \"verbose\": 3,\n",
    "            \"ep_length\": 200,\n",
    "            \"delta\": 0.2,\n",
    "            \"action_space_type\": \"discrete\"\n",
    "            },\n",
    "    )\n",
    "env = gym.make(\"PharmacophoreEnv-v0\")"
   ]
  },
  {
   "cell_type": "code",
   "execution_count": 4,
   "metadata": {},
   "outputs": [],
   "source": [
    "env.obs_to_pml(observation=[1.2, 1.4, 4.5, 1.4, 4.5, 5.0, 4.2], filename=r'C:\\\\Users\\\\kilia\\\\MASTER\\\\rlpharm\\\\data\\\\querys\\\\superquestionmark_1ZD5.pml')"
   ]
  },
  {
   "cell_type": "code",
   "execution_count": null,
   "metadata": {},
   "outputs": [],
   "source": []
  }
 ],
 "metadata": {
  "kernelspec": {
   "display_name": "venv",
   "language": "python",
   "name": "python3"
  },
  "language_info": {
   "codemirror_mode": {
    "name": "ipython",
    "version": 3
   },
   "file_extension": ".py",
   "mimetype": "text/x-python",
   "name": "python",
   "nbconvert_exporter": "python",
   "pygments_lexer": "ipython3",
   "version": "3.10.8"
  },
  "orig_nbformat": 4
 },
 "nbformat": 4,
 "nbformat_minor": 2
}
