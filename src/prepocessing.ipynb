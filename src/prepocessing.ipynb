{
 "cells": [
  {
   "cell_type": "code",
   "execution_count": 14,
   "metadata": {},
   "outputs": [],
   "source": [
    "import numpy as np\n",
    "import pandas as pd\n",
    "import matplotlib.pyplot as plt\n",
    "import seaborn as sns"
   ]
  },
  {
   "cell_type": "code",
   "execution_count": 7,
   "metadata": {},
   "outputs": [],
   "source": [
    "df0 = pd.read_csv(\"../data/approxLarge.csv\")\n",
    "df1 = pd.read_csv(\"../data/approxWobly.csv\")\n",
    "df2 = pd.read_csv(\"../data/approx1000.csv\")\n",
    "df3 = pd.read_csv(\"../data/approxXd.csv\")\n",
    "df4 = pd.read_csv(\"../data/approx200.csv\")\n",
    "df2 = df2.drop(columns=[\"Step\"])\n",
    "df4 = df4.drop(columns=[\"Step\"])\n",
    "dfs = [df0, df1, df2, df3, df4]"
   ]
  },
  {
   "cell_type": "code",
   "execution_count": 11,
   "metadata": {},
   "outputs": [],
   "source": [
    "bdf = pd.concat(dfs)\n",
    "bdf = bdf.drop_duplicates()"
   ]
  },
  {
   "cell_type": "code",
   "execution_count": 13,
   "metadata": {},
   "outputs": [],
   "source": [
    "bdf = bdf[(bdf.Feature0 > 1) & (bdf.Feature1 > 1) & (bdf.Feature2 > 1) & (bdf.Feature3 > 1) & (bdf.Feature4 > 1) & (bdf.Feature5 > 1) & (bdf.Feature6 > 1)]\n",
    "bdf = bdf[(bdf.Feature0 < 6) & (bdf.Feature1 < 6) & (bdf.Feature2 < 6) & (bdf.Feature3 < 6) & (bdf.Feature4 < 6) & (bdf.Feature5 < 6) & (bdf.Feature6 < 6)]"
   ]
  },
  {
   "cell_type": "code",
   "execution_count": null,
   "metadata": {},
   "outputs": [],
   "source": [
    "sns.pairplot(data=bdf)"
   ]
  },
  {
   "cell_type": "code",
   "execution_count": 20,
   "metadata": {},
   "outputs": [],
   "source": [
    "bdf = bdf.sample(frac=1).reset_index(drop=True)\n",
    "bdf.to_csv(\"../data/approxFinal.csv\", index=False)"
   ]
  }
 ],
 "metadata": {
  "kernelspec": {
   "display_name": "venv",
   "language": "python",
   "name": "python3"
  },
  "language_info": {
   "codemirror_mode": {
    "name": "ipython",
    "version": 3
   },
   "file_extension": ".py",
   "mimetype": "text/x-python",
   "name": "python",
   "nbconvert_exporter": "python",
   "pygments_lexer": "ipython3",
   "version": "3.10.8"
  },
  "orig_nbformat": 4
 },
 "nbformat": 4,
 "nbformat_minor": 2
}
